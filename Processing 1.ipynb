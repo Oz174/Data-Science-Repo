{
 "cells": [
  {
   "cell_type": "code",
   "execution_count": null,
   "metadata": {},
   "outputs": [],
   "source": [
    "import pandas as pd "
   ]
  },
  {
   "cell_type": "code",
   "execution_count": null,
   "metadata": {},
   "outputs": [],
   "source": [
    "raw_csv_data = pd.read_csv(\"Absenteeism_data.csv\")\n",
    "df = raw_csv_data.copy()\n",
    "pd.options.display.max_columns = None\n",
    "pd.options.display.max_rows = None\n",
    "reason_columns = pd.get_dummies(df['Reason for Absence'], drop_first = True)\n",
    "reason_type_1 = reason_columns.loc[:,1:14].max(axis = 1)\n",
    "reason_type_2 = reason_columns.loc[:,15:17].max(axis = 1)\n",
    "reason_type_3 = reason_columns.loc[:,18:21].max(axis = 1)\n",
    "reason_type_4 = reason_columns.loc[:,22:].max(axis = 1)\n",
    "df = df.drop(['ID'], axis = 1)\n",
    "df = df.drop(['Reason for Absence'],axis = 1)\n",
    "df = pd.concat([df,reason_type_1,reason_type_2,reason_type_3,reason_type_4], axis=1)\n",
    "new_column_names = ['Date', 'Transportation Expense', 'Distance to Work', 'Age',\n",
    "       'Daily Work Load Average', 'Body Mass Index', 'Education',\n",
    "       'Children', 'Pets', 'Absenteeism Time in Hours', 'Reason 1', 'Reason 2', 'Reason 3', 'Reason 4']\n",
    "df.columns = new_column_names\n",
    "column_names_reordered = ['Reason 1', 'Reason 2', 'Reason 3', 'Reason 4','Date', 'Transportation Expense', 'Distance to Work', 'Age',\n",
    "         'Daily Work Load Average', 'Body Mass Index', 'Education',\n",
    "            'Children', 'Pets', 'Absenteeism Time in Hours']\n",
    "df = df[column_names_reordered]\n",
    "df['Date'] = pd.to_datetime(df['Date'])\n",
    "df['Date'] = pd.to_datetime(df['Date'], format ='%D/%m/%Y')\n",
    "list_months = []\n",
    "for i in range(df.shape[0]):\n",
    "    list_months.append(df['Date'][i].month)\n",
    "df['Month Value'] = list_months\n",
    "def date_to_weekday(date_value):\n",
    "    return date_value.weekday()\n",
    "df['Day of the Week'] = df['Date'].apply(date_to_weekday)\n",
    "df = df.drop(['Date'], axis = 1)\n",
    "df['Education'] = df['Education'].map({1:0,2:1,3:1,4:1})\n",
    "df_preprocessed = df.copy()\n",
    "df_preprocessed.to_csv('Absenteeism_preprocessed.csv', index = False)\n",
    "df_preprocessed.head()\n"
   ]
  },
  {
   "cell_type": "code",
   "execution_count": null,
   "metadata": {},
   "outputs": [],
   "source": []
  }
 ],
 "metadata": {
  "kernelspec": {
   "display_name": "Python 3",
   "language": "python",
   "name": "python3"
  },
  "language_info": {
   "codemirror_mode": {
    "name": "ipython",
    "version": 3
   },
   "file_extension": ".py",
   "mimetype": "text/x-python",
   "name": "python",
   "nbconvert_exporter": "python",
   "pygments_lexer": "ipython3",
   "version": "3.11.4"
  },
  "orig_nbformat": 4
 },
 "nbformat": 4,
 "nbformat_minor": 2
}
