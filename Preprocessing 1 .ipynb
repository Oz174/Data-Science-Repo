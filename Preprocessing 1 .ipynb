{
 "cells": [
  {
   "cell_type": "code",
   "execution_count": null,
   "id": "a412b666",
   "metadata": {},
   "outputs": [],
   "source": [
    "import pandas as pd \n",
    "\n"
   ]
  },
  {
   "cell_type": "code",
   "execution_count": null,
   "id": "349947e7",
   "metadata": {},
   "outputs": [],
   "source": [
    "# Make sure to create the folder where you would use (ipynb , csv files ... etc) before using the notebook !\n",
    "# Any edits made to the csv file will reflect on restarting the kernel \n",
    "raw_csv_data = pd.read_csv(\"Absenteeism_data.csv\") "
   ]
  },
  {
   "cell_type": "code",
   "execution_count": null,
   "id": "76f2cf9e",
   "metadata": {},
   "outputs": [],
   "source": [
    "raw_csv_data"
   ]
  },
  {
   "cell_type": "code",
   "execution_count": null,
   "id": "198dd8f2",
   "metadata": {},
   "outputs": [],
   "source": [
    "#creating a copy of the original csv file (Data at a glance)\n",
    "#df : data frame \n",
    "df = raw_csv_data.copy()"
   ]
  },
  {
   "cell_type": "code",
   "execution_count": null,
   "id": "770b3cb5",
   "metadata": {},
   "outputs": [],
   "source": [
    "df"
   ]
  },
  {
   "cell_type": "code",
   "execution_count": null,
   "id": "fefb8506",
   "metadata": {},
   "outputs": [],
   "source": [
    "# Used to display all the rows and columns \n",
    "pd.options.display.max_columns = None\n",
    "pd.options.display.max_rows = None\n",
    "\n"
   ]
  },
  {
   "cell_type": "code",
   "execution_count": null,
   "id": "a5a0beb0",
   "metadata": {},
   "outputs": [],
   "source": [
    "type(raw_csv_data)"
   ]
  },
  {
   "cell_type": "code",
   "execution_count": null,
   "id": "a472410a",
   "metadata": {},
   "outputs": [],
   "source": [
    "raw_csv_data"
   ]
  },
  {
   "cell_type": "code",
   "execution_count": null,
   "id": "11d0e028",
   "metadata": {},
   "outputs": [],
   "source": [
    "# A good indicator for a python programmar to ensure complete dataset with no missing entries \n",
    "df.info()"
   ]
  },
  {
   "cell_type": "code",
   "execution_count": null,
   "id": "4a17abc6",
   "metadata": {},
   "outputs": [],
   "source": [
    "# axis 0 stands for the y-axis , while axis 1 stands for the x axis \n",
    "df.drop([\"ID\"], axis = 1) \n",
    "# drop function shows the data frame after removing the column , it is a temporary output and it doesn't yet reflect the frame\n",
    "# Use these lines for permenantly deleting the ID column\n",
    "df = df.drop([\"ID\"], axis = 1)"
   ]
  },
  {
   "cell_type": "code",
   "execution_count": null,
   "id": "1b5f8599",
   "metadata": {},
   "outputs": [],
   "source": [
    "df"
   ]
  },
  {
   "cell_type": "code",
   "execution_count": null,
   "id": "ee4cce7c",
   "metadata": {},
   "outputs": [],
   "source": [
    "#two ways of extracting unique elements in a column\n",
    "df['Reason for Absence'].unique()"
   ]
  },
  {
   "cell_type": "code",
   "execution_count": null,
   "id": "43dfeb85",
   "metadata": {},
   "outputs": [],
   "source": [
    "pd.unique(df['Reason for Absence'])"
   ]
  },
  {
   "cell_type": "code",
   "execution_count": null,
   "id": "f32c365f",
   "metadata": {},
   "outputs": [],
   "source": [
    "print(df['Reason for Absence'].min())\n",
    "print(df['Reason for Absence'].max())\n",
    "# you will notice that the max-min is not equal to the number of unique elements since 20 is missing\n",
    "print(len(pd.unique(df['Reason for Absence'])))"
   ]
  },
  {
   "cell_type": "code",
   "execution_count": null,
   "id": "951fd0b7",
   "metadata": {},
   "outputs": [],
   "source": [
    "sorted(df['Reason for Absence'].unique())\n",
    "# 20 is now seen missing "
   ]
  },
  {
   "cell_type": "code",
   "execution_count": null,
   "id": "d4753c41",
   "metadata": {},
   "outputs": [],
   "source": [
    "# Reason for Absence code does not have a numerical value (It's a categorical nominal) , we will split it into columns\n",
    "# Quantitative Analysis is giving those categorical nominal data , a numerical meaning \n",
    "# One of the ways to do so , is creating dummy variables : self explanatory binary value that equals 1 if the categorical effect is present and 0 otherwise\n",
    "# Moving to how to split \n",
    "\n",
    "reason_columns = pd.get_dummies(df['Reason for Absence'])\n"
   ]
  },
  {
   "cell_type": "code",
   "execution_count": null,
   "id": "a928188f",
   "metadata": {},
   "outputs": [],
   "source": [
    "reason_columns"
   ]
  },
  {
   "cell_type": "code",
   "execution_count": null,
   "id": "c107aeeb",
   "metadata": {},
   "outputs": [],
   "source": [
    "reason_columns['check'] = reason_columns.sum(axis=1)\n",
    "reason_columns"
   ]
  },
  {
   "cell_type": "code",
   "execution_count": null,
   "id": "53eaa806",
   "metadata": {},
   "outputs": [],
   "source": [
    "reason_columns['check'].sum(axis=0)\n",
    "# for each reason it counts its occurence \n",
    "# reason_columns.sum(axis=0)"
   ]
  },
  {
   "cell_type": "code",
   "execution_count": null,
   "id": "71093cc8",
   "metadata": {},
   "outputs": [],
   "source": [
    "reason_columns['check'].unique()\n",
    "# expected to be 1 since there's no other values such as missing or multiple reasons"
   ]
  },
  {
   "cell_type": "code",
   "execution_count": null,
   "id": "289f06fd",
   "metadata": {},
   "outputs": [],
   "source": [
    "reason_columns = reason_columns.drop(['check'], axis = 1)"
   ]
  },
  {
   "cell_type": "code",
   "execution_count": null,
   "id": "484db47f",
   "metadata": {},
   "outputs": [],
   "source": [
    "reason_columns"
   ]
  }
 ],
 "metadata": {
  "kernelspec": {
   "display_name": "Python 3 (ipykernel)",
   "language": "python",
   "name": "python3"
  },
  "language_info": {
   "codemirror_mode": {
    "name": "ipython",
    "version": 3
   },
   "file_extension": ".py",
   "mimetype": "text/x-python",
   "name": "python",
   "nbconvert_exporter": "python",
   "pygments_lexer": "ipython3",
   "version": "3.10.9"
  }
 },
 "nbformat": 4,
 "nbformat_minor": 5
}
